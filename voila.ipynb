{
 "cells": [
  {
   "cell_type": "code",
   "execution_count": 1,
   "id": "6666b3e6-c92c-420b-896f-67e3f866bdb0",
   "metadata": {},
   "outputs": [
    {
     "name": "stdout",
     "output_type": "stream",
     "text": [
      "Requirement already satisfied: voila in c:\\users\\ksalam\\appdata\\local\\anaconda3\\lib\\site-packages (0.5.8)\n",
      "Requirement already satisfied: ipywidgets in c:\\users\\ksalam\\appdata\\local\\anaconda3\\lib\\site-packages (8.1.5)\n",
      "Requirement already satisfied: pandas in c:\\users\\ksalam\\appdata\\local\\anaconda3\\lib\\site-packages (2.2.2)\n",
      "Requirement already satisfied: plotly in c:\\users\\ksalam\\appdata\\local\\anaconda3\\lib\\site-packages (5.22.0)\n",
      "Requirement already satisfied: jupyter-client<9,>=7.4.4 in c:\\users\\ksalam\\appdata\\local\\anaconda3\\lib\\site-packages (from voila) (8.6.0)\n",
      "Requirement already satisfied: jupyter-core>=4.11.0 in c:\\users\\ksalam\\appdata\\local\\anaconda3\\lib\\site-packages (from voila) (5.7.2)\n",
      "Requirement already satisfied: jupyter-server<3,>=1.18 in c:\\users\\ksalam\\appdata\\local\\anaconda3\\lib\\site-packages (from voila) (2.14.1)\n",
      "Requirement already satisfied: jupyterlab-server<3,>=2.3.0 in c:\\users\\ksalam\\appdata\\local\\anaconda3\\lib\\site-packages (from voila) (2.25.1)\n",
      "Requirement already satisfied: nbclient>=0.4.0 in c:\\users\\ksalam\\appdata\\local\\anaconda3\\lib\\site-packages (from voila) (0.8.0)\n",
      "Requirement already satisfied: nbconvert<8,>=6.4.5 in c:\\users\\ksalam\\appdata\\local\\anaconda3\\lib\\site-packages (from voila) (7.10.0)\n",
      "Requirement already satisfied: traitlets<6,>=5.0.3 in c:\\users\\ksalam\\appdata\\local\\anaconda3\\lib\\site-packages (from voila) (5.14.3)\n",
      "Requirement already satisfied: websockets>=9.0 in c:\\users\\ksalam\\appdata\\local\\anaconda3\\lib\\site-packages (from voila) (15.0)\n",
      "Requirement already satisfied: comm>=0.1.3 in c:\\users\\ksalam\\appdata\\local\\anaconda3\\lib\\site-packages (from ipywidgets) (0.2.1)\n",
      "Requirement already satisfied: ipython>=6.1.0 in c:\\users\\ksalam\\appdata\\local\\anaconda3\\lib\\site-packages (from ipywidgets) (8.25.0)\n",
      "Requirement already satisfied: widgetsnbextension~=4.0.12 in c:\\users\\ksalam\\appdata\\local\\anaconda3\\lib\\site-packages (from ipywidgets) (4.0.13)\n",
      "Requirement already satisfied: jupyterlab-widgets~=3.0.12 in c:\\users\\ksalam\\appdata\\local\\anaconda3\\lib\\site-packages (from ipywidgets) (3.0.13)\n",
      "Requirement already satisfied: numpy>=1.26.0 in c:\\users\\ksalam\\appdata\\local\\anaconda3\\lib\\site-packages (from pandas) (1.26.4)\n",
      "Requirement already satisfied: python-dateutil>=2.8.2 in c:\\users\\ksalam\\appdata\\local\\anaconda3\\lib\\site-packages (from pandas) (2.9.0.post0)\n",
      "Requirement already satisfied: pytz>=2020.1 in c:\\users\\ksalam\\appdata\\local\\anaconda3\\lib\\site-packages (from pandas) (2024.1)\n",
      "Requirement already satisfied: tzdata>=2022.7 in c:\\users\\ksalam\\appdata\\local\\anaconda3\\lib\\site-packages (from pandas) (2023.3)\n",
      "Requirement already satisfied: tenacity>=6.2.0 in c:\\users\\ksalam\\appdata\\local\\anaconda3\\lib\\site-packages (from plotly) (8.2.2)\n",
      "Requirement already satisfied: packaging in c:\\users\\ksalam\\appdata\\local\\anaconda3\\lib\\site-packages (from plotly) (23.2)\n",
      "Requirement already satisfied: decorator in c:\\users\\ksalam\\appdata\\local\\anaconda3\\lib\\site-packages (from ipython>=6.1.0->ipywidgets) (5.1.1)\n",
      "Requirement already satisfied: jedi>=0.16 in c:\\users\\ksalam\\appdata\\local\\anaconda3\\lib\\site-packages (from ipython>=6.1.0->ipywidgets) (0.18.1)\n",
      "Requirement already satisfied: matplotlib-inline in c:\\users\\ksalam\\appdata\\local\\anaconda3\\lib\\site-packages (from ipython>=6.1.0->ipywidgets) (0.1.6)\n",
      "Requirement already satisfied: prompt-toolkit<3.1.0,>=3.0.41 in c:\\users\\ksalam\\appdata\\local\\anaconda3\\lib\\site-packages (from ipython>=6.1.0->ipywidgets) (3.0.43)\n",
      "Requirement already satisfied: pygments>=2.4.0 in c:\\users\\ksalam\\appdata\\local\\anaconda3\\lib\\site-packages (from ipython>=6.1.0->ipywidgets) (2.15.1)\n",
      "Requirement already satisfied: stack-data in c:\\users\\ksalam\\appdata\\local\\anaconda3\\lib\\site-packages (from ipython>=6.1.0->ipywidgets) (0.2.0)\n",
      "Requirement already satisfied: colorama in c:\\users\\ksalam\\appdata\\local\\anaconda3\\lib\\site-packages (from ipython>=6.1.0->ipywidgets) (0.4.6)\n",
      "Requirement already satisfied: pyzmq>=23.0 in c:\\users\\ksalam\\appdata\\local\\anaconda3\\lib\\site-packages (from jupyter-client<9,>=7.4.4->voila) (25.1.2)\n",
      "Requirement already satisfied: tornado>=6.2 in c:\\users\\ksalam\\appdata\\local\\anaconda3\\lib\\site-packages (from jupyter-client<9,>=7.4.4->voila) (6.4.1)\n",
      "Requirement already satisfied: platformdirs>=2.5 in c:\\users\\ksalam\\appdata\\local\\anaconda3\\lib\\site-packages (from jupyter-core>=4.11.0->voila) (3.10.0)\n",
      "Requirement already satisfied: pywin32>=300 in c:\\users\\ksalam\\appdata\\local\\anaconda3\\lib\\site-packages (from jupyter-core>=4.11.0->voila) (305.1)\n",
      "Requirement already satisfied: anyio>=3.1.0 in c:\\users\\ksalam\\appdata\\local\\anaconda3\\lib\\site-packages (from jupyter-server<3,>=1.18->voila) (3.7.1)\n",
      "Requirement already satisfied: argon2-cffi>=21.1 in c:\\users\\ksalam\\appdata\\local\\anaconda3\\lib\\site-packages (from jupyter-server<3,>=1.18->voila) (21.3.0)\n",
      "Requirement already satisfied: jinja2>=3.0.3 in c:\\users\\ksalam\\appdata\\local\\anaconda3\\lib\\site-packages (from jupyter-server<3,>=1.18->voila) (3.1.4)\n",
      "Requirement already satisfied: jupyter-events>=0.9.0 in c:\\users\\ksalam\\appdata\\local\\anaconda3\\lib\\site-packages (from jupyter-server<3,>=1.18->voila) (0.10.0)\n",
      "Requirement already satisfied: jupyter-server-terminals>=0.4.4 in c:\\users\\ksalam\\appdata\\local\\anaconda3\\lib\\site-packages (from jupyter-server<3,>=1.18->voila) (0.4.4)\n",
      "Requirement already satisfied: nbformat>=5.3.0 in c:\\users\\ksalam\\appdata\\local\\anaconda3\\lib\\site-packages (from jupyter-server<3,>=1.18->voila) (5.9.2)\n",
      "Requirement already satisfied: overrides>=5.0 in c:\\users\\ksalam\\appdata\\local\\anaconda3\\lib\\site-packages (from jupyter-server<3,>=1.18->voila) (7.4.0)\n",
      "Requirement already satisfied: prometheus-client>=0.9 in c:\\users\\ksalam\\appdata\\local\\anaconda3\\lib\\site-packages (from jupyter-server<3,>=1.18->voila) (0.14.1)\n",
      "Requirement already satisfied: pywinpty>=2.0.1 in c:\\users\\ksalam\\appdata\\local\\anaconda3\\lib\\site-packages (from jupyter-server<3,>=1.18->voila) (2.0.10)\n",
      "Requirement already satisfied: send2trash>=1.8.2 in c:\\users\\ksalam\\appdata\\local\\anaconda3\\lib\\site-packages (from jupyter-server<3,>=1.18->voila) (1.8.2)\n",
      "Requirement already satisfied: terminado>=0.8.3 in c:\\users\\ksalam\\appdata\\local\\anaconda3\\lib\\site-packages (from jupyter-server<3,>=1.18->voila) (0.17.1)\n",
      "Requirement already satisfied: websocket-client>=1.7 in c:\\users\\ksalam\\appdata\\local\\anaconda3\\lib\\site-packages (from jupyter-server<3,>=1.18->voila) (1.8.0)\n",
      "Requirement already satisfied: babel>=2.10 in c:\\users\\ksalam\\appdata\\local\\anaconda3\\lib\\site-packages (from jupyterlab-server<3,>=2.3.0->voila) (2.11.0)\n",
      "Requirement already satisfied: json5>=0.9.0 in c:\\users\\ksalam\\appdata\\local\\anaconda3\\lib\\site-packages (from jupyterlab-server<3,>=2.3.0->voila) (0.9.6)\n",
      "Requirement already satisfied: jsonschema>=4.18.0 in c:\\users\\ksalam\\appdata\\local\\anaconda3\\lib\\site-packages (from jupyterlab-server<3,>=2.3.0->voila) (4.19.2)\n",
      "Requirement already satisfied: requests>=2.31 in c:\\users\\ksalam\\appdata\\local\\anaconda3\\lib\\site-packages (from jupyterlab-server<3,>=2.3.0->voila) (2.32.2)\n",
      "Requirement already satisfied: beautifulsoup4 in c:\\users\\ksalam\\appdata\\local\\anaconda3\\lib\\site-packages (from nbconvert<8,>=6.4.5->voila) (4.12.3)\n",
      "Requirement already satisfied: bleach!=5.0.0 in c:\\users\\ksalam\\appdata\\local\\anaconda3\\lib\\site-packages (from nbconvert<8,>=6.4.5->voila) (4.1.0)\n",
      "Requirement already satisfied: defusedxml in c:\\users\\ksalam\\appdata\\local\\anaconda3\\lib\\site-packages (from nbconvert<8,>=6.4.5->voila) (0.7.1)\n",
      "Requirement already satisfied: jupyterlab-pygments in c:\\users\\ksalam\\appdata\\local\\anaconda3\\lib\\site-packages (from nbconvert<8,>=6.4.5->voila) (0.1.2)\n",
      "Requirement already satisfied: markupsafe>=2.0 in c:\\users\\ksalam\\appdata\\local\\anaconda3\\lib\\site-packages (from nbconvert<8,>=6.4.5->voila) (2.1.3)\n",
      "Requirement already satisfied: mistune<4,>=2.0.3 in c:\\users\\ksalam\\appdata\\local\\anaconda3\\lib\\site-packages (from nbconvert<8,>=6.4.5->voila) (2.0.4)\n",
      "Requirement already satisfied: pandocfilters>=1.4.1 in c:\\users\\ksalam\\appdata\\local\\anaconda3\\lib\\site-packages (from nbconvert<8,>=6.4.5->voila) (1.5.0)\n",
      "Requirement already satisfied: tinycss2 in c:\\users\\ksalam\\appdata\\local\\anaconda3\\lib\\site-packages (from nbconvert<8,>=6.4.5->voila) (1.2.1)\n",
      "Requirement already satisfied: six>=1.5 in c:\\users\\ksalam\\appdata\\local\\anaconda3\\lib\\site-packages (from python-dateutil>=2.8.2->pandas) (1.16.0)\n",
      "Requirement already satisfied: idna>=2.8 in c:\\users\\ksalam\\appdata\\local\\anaconda3\\lib\\site-packages (from anyio>=3.1.0->jupyter-server<3,>=1.18->voila) (3.7)\n",
      "Requirement already satisfied: sniffio>=1.1 in c:\\users\\ksalam\\appdata\\local\\anaconda3\\lib\\site-packages (from anyio>=3.1.0->jupyter-server<3,>=1.18->voila) (1.3.0)\n",
      "Requirement already satisfied: argon2-cffi-bindings in c:\\users\\ksalam\\appdata\\local\\anaconda3\\lib\\site-packages (from argon2-cffi>=21.1->jupyter-server<3,>=1.18->voila) (21.2.0)\n",
      "Requirement already satisfied: webencodings in c:\\users\\ksalam\\appdata\\local\\anaconda3\\lib\\site-packages (from bleach!=5.0.0->nbconvert<8,>=6.4.5->voila) (0.5.1)\n",
      "Requirement already satisfied: parso<0.9.0,>=0.8.0 in c:\\users\\ksalam\\appdata\\local\\anaconda3\\lib\\site-packages (from jedi>=0.16->ipython>=6.1.0->ipywidgets) (0.8.3)\n",
      "Requirement already satisfied: attrs>=22.2.0 in c:\\users\\ksalam\\appdata\\local\\anaconda3\\lib\\site-packages (from jsonschema>=4.18.0->jupyterlab-server<3,>=2.3.0->voila) (25.1.0)\n",
      "Requirement already satisfied: jsonschema-specifications>=2023.03.6 in c:\\users\\ksalam\\appdata\\local\\anaconda3\\lib\\site-packages (from jsonschema>=4.18.0->jupyterlab-server<3,>=2.3.0->voila) (2023.7.1)\n",
      "Requirement already satisfied: referencing>=0.28.4 in c:\\users\\ksalam\\appdata\\local\\anaconda3\\lib\\site-packages (from jsonschema>=4.18.0->jupyterlab-server<3,>=2.3.0->voila) (0.30.2)\n",
      "Requirement already satisfied: rpds-py>=0.7.1 in c:\\users\\ksalam\\appdata\\local\\anaconda3\\lib\\site-packages (from jsonschema>=4.18.0->jupyterlab-server<3,>=2.3.0->voila) (0.10.6)\n",
      "Requirement already satisfied: python-json-logger>=2.0.4 in c:\\users\\ksalam\\appdata\\local\\anaconda3\\lib\\site-packages (from jupyter-events>=0.9.0->jupyter-server<3,>=1.18->voila) (2.0.7)\n",
      "Requirement already satisfied: pyyaml>=5.3 in c:\\users\\ksalam\\appdata\\local\\anaconda3\\lib\\site-packages (from jupyter-events>=0.9.0->jupyter-server<3,>=1.18->voila) (6.0.1)\n",
      "Requirement already satisfied: rfc3339-validator in c:\\users\\ksalam\\appdata\\local\\anaconda3\\lib\\site-packages (from jupyter-events>=0.9.0->jupyter-server<3,>=1.18->voila) (0.1.4)\n",
      "Requirement already satisfied: rfc3986-validator>=0.1.1 in c:\\users\\ksalam\\appdata\\local\\anaconda3\\lib\\site-packages (from jupyter-events>=0.9.0->jupyter-server<3,>=1.18->voila) (0.1.1)\n",
      "Requirement already satisfied: fastjsonschema in c:\\users\\ksalam\\appdata\\local\\anaconda3\\lib\\site-packages (from nbformat>=5.3.0->jupyter-server<3,>=1.18->voila) (2.16.2)\n",
      "Requirement already satisfied: wcwidth in c:\\users\\ksalam\\appdata\\local\\anaconda3\\lib\\site-packages (from prompt-toolkit<3.1.0,>=3.0.41->ipython>=6.1.0->ipywidgets) (0.2.5)\n",
      "Requirement already satisfied: charset-normalizer<4,>=2 in c:\\users\\ksalam\\appdata\\local\\anaconda3\\lib\\site-packages (from requests>=2.31->jupyterlab-server<3,>=2.3.0->voila) (2.0.4)\n",
      "Requirement already satisfied: urllib3<3,>=1.21.1 in c:\\users\\ksalam\\appdata\\local\\anaconda3\\lib\\site-packages (from requests>=2.31->jupyterlab-server<3,>=2.3.0->voila) (2.2.2)\n",
      "Requirement already satisfied: certifi>=2017.4.17 in c:\\users\\ksalam\\appdata\\local\\anaconda3\\lib\\site-packages (from requests>=2.31->jupyterlab-server<3,>=2.3.0->voila) (2024.7.4)\n",
      "Requirement already satisfied: soupsieve>1.2 in c:\\users\\ksalam\\appdata\\local\\anaconda3\\lib\\site-packages (from beautifulsoup4->nbconvert<8,>=6.4.5->voila) (2.5)\n",
      "Requirement already satisfied: executing in c:\\users\\ksalam\\appdata\\local\\anaconda3\\lib\\site-packages (from stack-data->ipython>=6.1.0->ipywidgets) (0.8.3)\n",
      "Requirement already satisfied: asttokens in c:\\users\\ksalam\\appdata\\local\\anaconda3\\lib\\site-packages (from stack-data->ipython>=6.1.0->ipywidgets) (2.0.5)\n",
      "Requirement already satisfied: pure-eval in c:\\users\\ksalam\\appdata\\local\\anaconda3\\lib\\site-packages (from stack-data->ipython>=6.1.0->ipywidgets) (0.2.2)\n",
      "Requirement already satisfied: fqdn in c:\\users\\ksalam\\appdata\\local\\anaconda3\\lib\\site-packages (from jsonschema[format-nongpl]>=4.18.0->jupyter-events>=0.9.0->jupyter-server<3,>=1.18->voila) (1.5.1)\n",
      "Requirement already satisfied: isoduration in c:\\users\\ksalam\\appdata\\local\\anaconda3\\lib\\site-packages (from jsonschema[format-nongpl]>=4.18.0->jupyter-events>=0.9.0->jupyter-server<3,>=1.18->voila) (20.11.0)\n",
      "Requirement already satisfied: jsonpointer>1.13 in c:\\users\\ksalam\\appdata\\local\\anaconda3\\lib\\site-packages (from jsonschema[format-nongpl]>=4.18.0->jupyter-events>=0.9.0->jupyter-server<3,>=1.18->voila) (2.1)\n",
      "Requirement already satisfied: uri-template in c:\\users\\ksalam\\appdata\\local\\anaconda3\\lib\\site-packages (from jsonschema[format-nongpl]>=4.18.0->jupyter-events>=0.9.0->jupyter-server<3,>=1.18->voila) (1.3.0)\n",
      "Requirement already satisfied: webcolors>=1.11 in c:\\users\\ksalam\\appdata\\local\\anaconda3\\lib\\site-packages (from jsonschema[format-nongpl]>=4.18.0->jupyter-events>=0.9.0->jupyter-server<3,>=1.18->voila) (24.11.1)\n",
      "Requirement already satisfied: cffi>=1.0.1 in c:\\users\\ksalam\\appdata\\local\\anaconda3\\lib\\site-packages (from argon2-cffi-bindings->argon2-cffi>=21.1->jupyter-server<3,>=1.18->voila) (1.16.0)\n",
      "Requirement already satisfied: pycparser in c:\\users\\ksalam\\appdata\\local\\anaconda3\\lib\\site-packages (from cffi>=1.0.1->argon2-cffi-bindings->argon2-cffi>=21.1->jupyter-server<3,>=1.18->voila) (2.21)\n",
      "Requirement already satisfied: arrow>=0.15.0 in c:\\users\\ksalam\\appdata\\local\\anaconda3\\lib\\site-packages (from isoduration->jsonschema[format-nongpl]>=4.18.0->jupyter-events>=0.9.0->jupyter-server<3,>=1.18->voila) (1.2.3)\n"
     ]
    }
   ],
   "source": [
    "\n",
    "!pip install voila ipywidgets pandas plotly\n"
   ]
  },
  {
   "cell_type": "code",
   "execution_count": 3,
   "id": "322cae33-d7db-4b59-b7f9-bc7cf5361425",
   "metadata": {},
   "outputs": [
    {
     "name": "stdout",
     "output_type": "stream",
     "text": [
      "Requirement already satisfied: ipywidgets in c:\\users\\ksalam\\appdata\\local\\anaconda3\\lib\\site-packages (8.1.5)\n",
      "Requirement already satisfied: comm>=0.1.3 in c:\\users\\ksalam\\appdata\\local\\anaconda3\\lib\\site-packages (from ipywidgets) (0.2.1)\n",
      "Requirement already satisfied: ipython>=6.1.0 in c:\\users\\ksalam\\appdata\\local\\anaconda3\\lib\\site-packages (from ipywidgets) (8.25.0)\n",
      "Requirement already satisfied: traitlets>=4.3.1 in c:\\users\\ksalam\\appdata\\local\\anaconda3\\lib\\site-packages (from ipywidgets) (5.14.3)\n",
      "Requirement already satisfied: widgetsnbextension~=4.0.12 in c:\\users\\ksalam\\appdata\\local\\anaconda3\\lib\\site-packages (from ipywidgets) (4.0.13)\n",
      "Requirement already satisfied: jupyterlab-widgets~=3.0.12 in c:\\users\\ksalam\\appdata\\local\\anaconda3\\lib\\site-packages (from ipywidgets) (3.0.13)\n",
      "Requirement already satisfied: decorator in c:\\users\\ksalam\\appdata\\local\\anaconda3\\lib\\site-packages (from ipython>=6.1.0->ipywidgets) (5.1.1)\n",
      "Requirement already satisfied: jedi>=0.16 in c:\\users\\ksalam\\appdata\\local\\anaconda3\\lib\\site-packages (from ipython>=6.1.0->ipywidgets) (0.18.1)\n",
      "Requirement already satisfied: matplotlib-inline in c:\\users\\ksalam\\appdata\\local\\anaconda3\\lib\\site-packages (from ipython>=6.1.0->ipywidgets) (0.1.6)\n",
      "Requirement already satisfied: prompt-toolkit<3.1.0,>=3.0.41 in c:\\users\\ksalam\\appdata\\local\\anaconda3\\lib\\site-packages (from ipython>=6.1.0->ipywidgets) (3.0.43)\n",
      "Requirement already satisfied: pygments>=2.4.0 in c:\\users\\ksalam\\appdata\\local\\anaconda3\\lib\\site-packages (from ipython>=6.1.0->ipywidgets) (2.15.1)\n",
      "Requirement already satisfied: stack-data in c:\\users\\ksalam\\appdata\\local\\anaconda3\\lib\\site-packages (from ipython>=6.1.0->ipywidgets) (0.2.0)\n",
      "Requirement already satisfied: colorama in c:\\users\\ksalam\\appdata\\local\\anaconda3\\lib\\site-packages (from ipython>=6.1.0->ipywidgets) (0.4.6)\n",
      "Requirement already satisfied: parso<0.9.0,>=0.8.0 in c:\\users\\ksalam\\appdata\\local\\anaconda3\\lib\\site-packages (from jedi>=0.16->ipython>=6.1.0->ipywidgets) (0.8.3)\n",
      "Requirement already satisfied: wcwidth in c:\\users\\ksalam\\appdata\\local\\anaconda3\\lib\\site-packages (from prompt-toolkit<3.1.0,>=3.0.41->ipython>=6.1.0->ipywidgets) (0.2.5)\n",
      "Requirement already satisfied: executing in c:\\users\\ksalam\\appdata\\local\\anaconda3\\lib\\site-packages (from stack-data->ipython>=6.1.0->ipywidgets) (0.8.3)\n",
      "Requirement already satisfied: asttokens in c:\\users\\ksalam\\appdata\\local\\anaconda3\\lib\\site-packages (from stack-data->ipython>=6.1.0->ipywidgets) (2.0.5)\n",
      "Requirement already satisfied: pure-eval in c:\\users\\ksalam\\appdata\\local\\anaconda3\\lib\\site-packages (from stack-data->ipython>=6.1.0->ipywidgets) (0.2.2)\n",
      "Requirement already satisfied: six in c:\\users\\ksalam\\appdata\\local\\anaconda3\\lib\\site-packages (from asttokens->stack-data->ipython>=6.1.0->ipywidgets) (1.16.0)\n"
     ]
    }
   ],
   "source": [
    "!pip install --upgrade ipywidgets\n"
   ]
  },
  {
   "cell_type": "code",
   "execution_count": 5,
   "id": "10d37044-3df4-4770-9e70-38c2e6b044f4",
   "metadata": {},
   "outputs": [
    {
     "data": {
      "application/vnd.jupyter.widget-view+json": {
       "model_id": "ea437a504a2b4a3ea964efba3db7db71",
       "version_major": 2,
       "version_minor": 0
      },
      "text/plain": [
       "Dropdown(description='Country:', index=5, options=('Afghanistan', 'Albania', 'Algeria', 'Angola', 'Argentina',…"
      ]
     },
     "metadata": {},
     "output_type": "display_data"
    },
    {
     "data": {
      "application/vnd.jupyter.widget-view+json": {
       "model_id": "4d51ef24173549b392137105c521c09d",
       "version_major": 2,
       "version_minor": 0
      },
      "text/plain": [
       "IntRangeSlider(value=(1952, 2007), continuous_update=False, description='Year Range:', max=2007, min=1952, ste…"
      ]
     },
     "metadata": {},
     "output_type": "display_data"
    },
    {
     "data": {
      "application/vnd.jupyter.widget-view+json": {
       "model_id": "c4abef2545e446ff89d16f3281eb0528",
       "version_major": 2,
       "version_minor": 0
      },
      "text/plain": [
       "Button(description='Update Plot', style=ButtonStyle())"
      ]
     },
     "metadata": {},
     "output_type": "display_data"
    },
    {
     "data": {
      "application/vnd.jupyter.widget-view+json": {
       "model_id": "fcb79a44dd9c49e78b9a8af94400d15c",
       "version_major": 2,
       "version_minor": 0
      },
      "text/plain": [
       "Output()"
      ]
     },
     "metadata": {},
     "output_type": "display_data"
    }
   ],
   "source": [
    "import pandas as pd\n",
    "import plotly.express as px\n",
    "import ipywidgets as widgets\n",
    "from IPython.display import display\n",
    "\n",
    "# Load Sample Dataset (You can replace this with your data)\n",
    "df = px.data.gapminder()\n",
    "\n",
    "# Dropdown for selecting a country\n",
    "country_dropdown = widgets.Dropdown(\n",
    "    options=df['country'].unique(),\n",
    "    value='Australia',\n",
    "    description='Country:',\n",
    "    style={'description_width': 'initial'}\n",
    ")\n",
    "\n",
    "# Slider for selecting year range\n",
    "year_slider = widgets.IntRangeSlider(\n",
    "    value=[1952, 2007],\n",
    "    min=df['year'].min(),\n",
    "    max=df['year'].max(),\n",
    "    step=5,\n",
    "    description='Year Range:',\n",
    "    style={'description_width': 'initial'},\n",
    "    continuous_update=False\n",
    ")\n",
    "\n",
    "# Function to update plot\n",
    "def update_plot(country, year_range):\n",
    "    filtered_df = df[(df['country'] == country) & \n",
    "                     (df['year'] >= year_range[0]) & \n",
    "                     (df['year'] <= year_range[1])]\n",
    "    \n",
    "    fig = px.line(filtered_df, x='year', y='gdpPercap', title=f'GDP Per Capita of {country}',\n",
    "                  markers=True, labels={'gdpPercap': 'GDP Per Capita', 'year': 'Year'})\n",
    "    \n",
    "    display(fig)\n",
    "\n",
    "# Button to trigger updates\n",
    "update_button = widgets.Button(description=\"Update Plot\")\n",
    "\n",
    "# Output widget for displaying the chart\n",
    "output = widgets.Output()\n",
    "\n",
    "# Update function for button click\n",
    "def on_button_click(b):\n",
    "    with output:\n",
    "        output.clear_output()\n",
    "        update_plot(country_dropdown.value, year_slider.value)\n",
    "\n",
    "update_button.on_click(on_button_click)\n",
    "\n",
    "# Display widgets and output\n",
    "display(country_dropdown, year_slider, update_button, output)\n"
   ]
  },
  {
   "cell_type": "code",
   "execution_count": null,
   "id": "86aa298f-c2a3-4e4c-98c2-fefcb6e04a57",
   "metadata": {},
   "outputs": [],
   "source": []
  }
 ],
 "metadata": {
  "kernelspec": {
   "display_name": "Python 3 (ipykernel)",
   "language": "python",
   "name": "python3"
  },
  "language_info": {
   "codemirror_mode": {
    "name": "ipython",
    "version": 3
   },
   "file_extension": ".py",
   "mimetype": "text/x-python",
   "name": "python",
   "nbconvert_exporter": "python",
   "pygments_lexer": "ipython3",
   "version": "3.12.4"
  }
 },
 "nbformat": 4,
 "nbformat_minor": 5
}
